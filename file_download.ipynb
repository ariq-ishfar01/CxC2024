{
 "cells": [
  {
   "cell_type": "code",
   "execution_count": 1,
   "metadata": {},
   "outputs": [
    {
     "name": "stdout",
     "output_type": "stream",
     "text": [
      "Requirement already satisfied: gdown in c:\\users\\ariqi\\appdata\\local\\packages\\pythonsoftwarefoundation.python.3.10_qbz5n2kfra8p0\\localcache\\local-packages\\python310\\site-packages (5.1.0)\n",
      "Requirement already satisfied: filelock in c:\\users\\ariqi\\appdata\\local\\packages\\pythonsoftwarefoundation.python.3.10_qbz5n2kfra8p0\\localcache\\local-packages\\python310\\site-packages (from gdown) (3.13.1)\n",
      "Requirement already satisfied: requests[socks] in c:\\users\\ariqi\\appdata\\local\\packages\\pythonsoftwarefoundation.python.3.10_qbz5n2kfra8p0\\localcache\\local-packages\\python310\\site-packages (from gdown) (2.28.1)\n",
      "Requirement already satisfied: beautifulsoup4 in c:\\users\\ariqi\\appdata\\local\\packages\\pythonsoftwarefoundation.python.3.10_qbz5n2kfra8p0\\localcache\\local-packages\\python310\\site-packages (from gdown) (4.12.0)\n",
      "Requirement already satisfied: tqdm in c:\\users\\ariqi\\appdata\\local\\packages\\pythonsoftwarefoundation.python.3.10_qbz5n2kfra8p0\\localcache\\local-packages\\python310\\site-packages (from gdown) (4.65.0)\n",
      "Requirement already satisfied: soupsieve>1.2 in c:\\users\\ariqi\\appdata\\local\\packages\\pythonsoftwarefoundation.python.3.10_qbz5n2kfra8p0\\localcache\\local-packages\\python310\\site-packages (from beautifulsoup4->gdown) (2.4)\n",
      "Requirement already satisfied: certifi>=2017.4.17 in c:\\users\\ariqi\\appdata\\local\\packages\\pythonsoftwarefoundation.python.3.10_qbz5n2kfra8p0\\localcache\\local-packages\\python310\\site-packages (from requests[socks]->gdown) (2022.6.15)\n",
      "Requirement already satisfied: charset-normalizer<3,>=2 in c:\\users\\ariqi\\appdata\\local\\packages\\pythonsoftwarefoundation.python.3.10_qbz5n2kfra8p0\\localcache\\local-packages\\python310\\site-packages (from requests[socks]->gdown) (2.1.0)\n",
      "Requirement already satisfied: idna<4,>=2.5 in c:\\users\\ariqi\\appdata\\local\\packages\\pythonsoftwarefoundation.python.3.10_qbz5n2kfra8p0\\localcache\\local-packages\\python310\\site-packages (from requests[socks]->gdown) (3.3)\n",
      "Requirement already satisfied: urllib3<1.27,>=1.21.1 in c:\\users\\ariqi\\appdata\\local\\packages\\pythonsoftwarefoundation.python.3.10_qbz5n2kfra8p0\\localcache\\local-packages\\python310\\site-packages (from requests[socks]->gdown) (1.26.11)\n",
      "Requirement already satisfied: PySocks!=1.5.7,>=1.5.6 in c:\\users\\ariqi\\appdata\\local\\packages\\pythonsoftwarefoundation.python.3.10_qbz5n2kfra8p0\\localcache\\local-packages\\python310\\site-packages (from requests[socks]->gdown) (1.7.1)\n",
      "Requirement already satisfied: colorama in c:\\users\\ariqi\\appdata\\local\\packages\\pythonsoftwarefoundation.python.3.10_qbz5n2kfra8p0\\localcache\\local-packages\\python310\\site-packages (from tqdm->gdown) (0.4.5)\n"
     ]
    },
    {
     "name": "stderr",
     "output_type": "stream",
     "text": [
      "\n",
      "[notice] A new release of pip is available: 23.0.1 -> 24.0\n",
      "[notice] To update, run: C:\\Users\\ariqi\\AppData\\Local\\Microsoft\\WindowsApps\\PythonSoftwareFoundation.Python.3.10_qbz5n2kfra8p0\\python.exe -m pip install --upgrade pip\n"
     ]
    }
   ],
   "source": [
    "#Install gdown library for download\n",
    "!pip install gdown"
   ]
  },
  {
   "cell_type": "code",
   "execution_count": 2,
   "metadata": {},
   "outputs": [
    {
     "name": "stderr",
     "output_type": "stream",
     "text": [
      "Retrieving folder contents\n"
     ]
    },
    {
     "name": "stdout",
     "output_type": "stream",
     "text": [
      "Processing file 1uEi3EbykLFjrXVNpt9ZT-sjgj7vIqb6d acceptable_concentrations.png\n",
      "Processing file 1-gOxAW9q2_8dtiVxPb3tFZYEnaUf1K5L ATLASEN_AT04_Datasheet.pdf\n",
      "Processing file 1Cyj9EhmCVKjdLv-EvvCYmqdYtR3L1Kqd devices.csv\n",
      "Processing file 1w8DZrn0XsWJQm5pty4Quqlte-lGB6qoN reading_types.csv\n",
      "Processing file 1CGAtwm022eIxWa0YwGQvpe1EnhcKlR3X sampled_readings.csv\n",
      "Processing file 13ZUlP80wHcDXQqWdV3aLkfWOcreE-FIA test.csv\n"
     ]
    },
    {
     "name": "stderr",
     "output_type": "stream",
     "text": [
      "Retrieving folder contents completed\n",
      "Building directory structure\n",
      "Building directory structure completed\n",
      "Downloading...\n",
      "From: https://drive.google.com/uc?id=1uEi3EbykLFjrXVNpt9ZT-sjgj7vIqb6d\n",
      "To: c:\\Users\\ariqi\\Desktop\\CxC'24\\CxC2024\\data\\acceptable_concentrations.png\n",
      "100%|██████████| 75.0k/75.0k [00:00<00:00, 1.40MB/s]\n",
      "Downloading...\n",
      "From: https://drive.google.com/uc?id=1-gOxAW9q2_8dtiVxPb3tFZYEnaUf1K5L\n",
      "To: c:\\Users\\ariqi\\Desktop\\CxC'24\\CxC2024\\data\\ATLASEN_AT04_Datasheet.pdf\n",
      "100%|██████████| 3.78M/3.78M [00:00<00:00, 11.8MB/s]\n",
      "Downloading...\n",
      "From: https://drive.google.com/uc?id=1Cyj9EhmCVKjdLv-EvvCYmqdYtR3L1Kqd\n",
      "To: c:\\Users\\ariqi\\Desktop\\CxC'24\\CxC2024\\data\\devices.csv\n",
      "100%|██████████| 1.24k/1.24k [00:00<00:00, 2.49MB/s]\n",
      "Downloading...\n",
      "From: https://drive.google.com/uc?id=1w8DZrn0XsWJQm5pty4Quqlte-lGB6qoN\n",
      "To: c:\\Users\\ariqi\\Desktop\\CxC'24\\CxC2024\\data\\reading_types.csv\n",
      "100%|██████████| 125/125 [00:00<?, ?B/s] \n",
      "Downloading...\n",
      "From (original): https://drive.google.com/uc?id=1CGAtwm022eIxWa0YwGQvpe1EnhcKlR3X\n",
      "From (redirected): https://drive.google.com/uc?id=1CGAtwm022eIxWa0YwGQvpe1EnhcKlR3X&confirm=t&uuid=2f27a569-8bdc-4405-8996-e1154dec1526\n",
      "To: c:\\Users\\ariqi\\Desktop\\CxC'24\\CxC2024\\data\\sampled_readings.csv\n",
      "100%|██████████| 1.23G/1.23G [01:25<00:00, 14.4MB/s]\n",
      "Downloading...\n",
      "From (original): https://drive.google.com/uc?id=13ZUlP80wHcDXQqWdV3aLkfWOcreE-FIA\n",
      "From (redirected): https://drive.google.com/uc?id=13ZUlP80wHcDXQqWdV3aLkfWOcreE-FIA&confirm=t&uuid=ffef2da5-1bf1-4c94-a599-84398ef7d3ad\n",
      "To: c:\\Users\\ariqi\\Desktop\\CxC'24\\CxC2024\\data\\test.csv\n",
      "100%|██████████| 203M/203M [00:13<00:00, 15.0MB/s] \n",
      "Download completed\n"
     ]
    },
    {
     "data": {
      "text/plain": [
       "[\"c:\\\\Users\\\\ariqi\\\\Desktop\\\\CxC'24\\\\CxC2024\\\\data\\\\acceptable_concentrations.png\",\n",
       " \"c:\\\\Users\\\\ariqi\\\\Desktop\\\\CxC'24\\\\CxC2024\\\\data\\\\ATLASEN_AT04_Datasheet.pdf\",\n",
       " \"c:\\\\Users\\\\ariqi\\\\Desktop\\\\CxC'24\\\\CxC2024\\\\data\\\\devices.csv\",\n",
       " \"c:\\\\Users\\\\ariqi\\\\Desktop\\\\CxC'24\\\\CxC2024\\\\data\\\\reading_types.csv\",\n",
       " \"c:\\\\Users\\\\ariqi\\\\Desktop\\\\CxC'24\\\\CxC2024\\\\data\\\\sampled_readings.csv\",\n",
       " \"c:\\\\Users\\\\ariqi\\\\Desktop\\\\CxC'24\\\\CxC2024\\\\data\\\\test.csv\"]"
      ]
     },
     "execution_count": 2,
     "metadata": {},
     "output_type": "execute_result"
    }
   ],
   "source": [
    "import gdown\n",
    "\n",
    "gdown.download_folder(\"https://drive.google.com/drive/folders/1fVQEH6HTPa2rjK9BH4Zvcmygp2ZUO9Jf?usp=drive_link\")\n",
    "# Reminder: DO NOT add \"sample_readings.csv\" or \"test.csv\" to the repo. They're large files and will cause\n",
    "#           issues with github merging. Try keeping the data folder to your local repository."
   ]
  }
 ],
 "metadata": {
  "kernelspec": {
   "display_name": "Python 3",
   "language": "python",
   "name": "python3"
  },
  "language_info": {
   "codemirror_mode": {
    "name": "ipython",
    "version": 3
   },
   "file_extension": ".py",
   "mimetype": "text/x-python",
   "name": "python",
   "nbconvert_exporter": "python",
   "pygments_lexer": "ipython3",
   "version": "3.10.11"
  }
 },
 "nbformat": 4,
 "nbformat_minor": 2
}
